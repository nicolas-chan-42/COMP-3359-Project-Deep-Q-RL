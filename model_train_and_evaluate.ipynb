{
 "nbformat": 4,
 "nbformat_minor": 0,
 "metadata": {
  "colab": {
   "name": "master_notebook.ipynb",
   "provenance": [],
   "collapsed_sections": [],
   "toc_visible": true
  },
  "kernelspec": {
   "name": "python3",
   "language": "python",
   "display_name": "Python 3"
  }
 },
 "cells": [
  {
   "cell_type": "markdown",
   "source": [
    "# AI that cannot win Connect-Four"
   ],
   "metadata": {
    "collapsed": false
   }
  },
  {
   "cell_type": "code",
   "execution_count": null,
   "outputs": [],
   "source": [
    "# Install Connect-Four environment and training module.\n",
    "!git clone https://github.com/nicolas-chan-42/COMP-3359-Project-Deep-Q-RL.git\n",
    "!pip install -e ./COMP-3359-Project-Deep-Q-RL\n",
    "%cd ./COMP-3359-Project-Deep-Q-RL"
   ],
   "metadata": {
    "collapsed": false,
    "pycharm": {
     "name": "#%%\n"
    }
   }
  },
  {
   "cell_type": "markdown",
   "source": [
    "## Import modules"
   ],
   "metadata": {
    "collapsed": false
   }
  },
  {
   "cell_type": "code",
   "execution_count": null,
   "outputs": [],
   "source": [
    "import os\n",
    "\n",
    "import gym\n",
    "import numpy as np\n",
    "\n",
    "# Must be put before any tensorflow import statement.\n",
    "os.environ['TF_CPP_MIN_LOG_LEVEL'] = '2'\n",
    "\n",
    "from losing_connect_four.deep_q_networks import PlaceholderSgdDqn, Simple512SgdDqn\n",
    "from losing_connect_four.player import RandomPlayer, DeepQPlayer, Player\n",
    "from losing_connect_four.training import (\n",
    "    train_one_episode, pretrain_v2, load_model_to_players,\n",
    "    Record, plot_records, create_plot_list, save_model_from_player,\n",
    ")"
   ],
   "metadata": {
    "collapsed": false,
    "pycharm": {
     "name": "#%%\n"
    }
   }
  },
  {
   "cell_type": "markdown",
   "source": [
    "---\n",
    "## Hyper-parameters"
   ],
   "metadata": {
    "collapsed": false
   }
  },
  {
   "cell_type": "code",
   "execution_count": null,
   "outputs": [],
   "source": [
    "\"\"\"Hyper-parameters\"\"\"\n",
    "PARAMS = {\n",
    "    \"ENV_NAME\": \"ConnectFour-v1\",\n",
    "    \"LR\": 0.001,\n",
    "    \"REPLAY_BUFFER_MAX_LENGTH\": 100_000,\n",
    "    \"BATCH_SIZE\": 32,\n",
    "    \"EPS_START\": 1,\n",
    "    \"EPS_END\": 0.01,\n",
    "    \"EPS_DECAY_STEPS\": 10000,\n",
    "    \"GAMMA\": 0.95,\n",
    "    \"N_EPISODES\": 1000,\n",
    "    \"EPOCHS_PER_LEARNING\": 2,\n",
    "    \"EPOCHS_PER_PRETRAIN_LEARNING\": 2,\n",
    "    \"N_STEPS_PER_TARGET_UPDATE\": 1000,\n",
    "    \"PRETRAIN\": True,\n",
    "    \"PRETRAIN_UTILISATION_RATE\": 0.95,\n",
    "}"
   ],
   "metadata": {
    "collapsed": false,
    "pycharm": {
     "name": "#%%\n"
    }
   }
  },
  {
   "cell_type": "markdown",
   "source": [
    "## Training Configurations"
   ],
   "metadata": {
    "collapsed": false
   }
  },
  {
   "cell_type": "code",
   "execution_count": null,
   "outputs": [],
   "source": [
    "\"\"\"Configurations\"\"\"\n",
    "CONFIG = {\n",
    "    # Please use \"/\" only for filepath and directory paths.\n",
    "    # Use None as placeholder.\n",
    "    \"MODEL_DIR\": \"saved_models\",  # Input directory path here.\n",
    "    \"LOAD_MODEL\": [None, None],  # Input filename here.\n",
    "    \"SAVE_MODEL\": None,  # Input filename here\n",
    "    \"N_EPISODE_PER_PRINT\": 100,\n",
    "    \"SAVE_PLOT\": \"saved_plots\",  # Input directory path here.\n",
    "}"
   ],
   "metadata": {
    "collapsed": false,
    "pycharm": {
     "name": "#%%\n"
    }
   }
  },
  {
   "cell_type": "markdown",
   "source": [
    "---\n",
    "## Setup\n",
    "### Gym Connect-Four Environment"
   ],
   "metadata": {
    "collapsed": false
   }
  },
  {
   "cell_type": "code",
   "execution_count": null,
   "outputs": [],
   "source": [
    "\"\"\"Set-up Environment\"\"\"\n",
    "print(\"\\rMaking Connect-Four Gym Environment...\", end=\"\")\n",
    "env = gym.make(PARAMS[\"ENV_NAME\"])\n",
    "print(\"\\rConnect-Four Gym Environment Made\")"
   ],
   "metadata": {
    "collapsed": false,
    "pycharm": {
     "name": "#%%\n"
    }
   }
  },
  {
   "cell_type": "markdown",
   "source": [
    "### Players"
   ],
   "metadata": {
    "collapsed": false
   }
  },
  {
   "cell_type": "code",
   "execution_count": null,
   "outputs": [],
   "source": [
    "\"\"\"Setup Players\"\"\"\n",
    "player1: Player = DeepQPlayer(env, PARAMS, Simple512SgdDqn(momentum=0))\n",
    "player2: Player = RandomPlayer(env, seed=3407)\n",
    "players = {1: player1, 2: player2,\n",
    "           \"trainee_id\": 1}"
   ],
   "metadata": {
    "collapsed": false,
    "pycharm": {
     "name": "#%%\n"
    }
   }
  },
  {
   "cell_type": "markdown",
   "source": [
    "---\n",
    "## Model Preparations Before Training\n",
    "### Pre-train model"
   ],
   "metadata": {
    "collapsed": false
   }
  },
  {
   "cell_type": "code",
   "execution_count": null,
   "outputs": [],
   "source": [
    "\"\"\"Pre-train Player\"\"\"\n",
    "if PARAMS.get(\"PRETRAIN\"):\n",
    "    # noinspection PyTypeChecker\n",
    "    pretrain_v2(env, PARAMS, players[players[\"trainee_id\"]])"
   ],
   "metadata": {
    "collapsed": false,
    "pycharm": {
     "name": "#%%\n"
    }
   }
  },
  {
   "cell_type": "markdown",
   "source": [
    "### Load trained model"
   ],
   "metadata": {
    "collapsed": false
   }
  },
  {
   "cell_type": "code",
   "execution_count": null,
   "outputs": [],
   "source": [
    "\"\"\"Load the saved player if requested\"\"\"\n",
    "load_model_to_players(CONFIG, PARAMS, players)"
   ],
   "metadata": {
    "collapsed": false,
    "pycharm": {
     "name": "#%%\n"
    }
   }
  },
  {
   "cell_type": "markdown",
   "source": [
    "---\n",
    "## Prepare record storage"
   ],
   "metadata": {
    "collapsed": false
   }
  },
  {
   "cell_type": "code",
   "execution_count": null,
   "outputs": [],
   "source": [
    "\"\"\"Logging\"\"\"\n",
    "total_step = 0\n",
    "\n",
    "# Reward and Losses recording.\n",
    "total_reward = 0\n",
    "total_losses = 0\n",
    "reward_records = Record(PARAMS, CONFIG, name=\"Rewards\", dtype=np.int32)\n",
    "loss_records = Record(PARAMS, CONFIG, name=\"Losses\", dtype=np.int32)"
   ],
   "metadata": {
    "collapsed": false,
    "pycharm": {
     "name": "#%%\n"
    }
   }
  },
  {
   "cell_type": "markdown",
   "source": [
    "---\n",
    "## Training"
   ],
   "metadata": {
    "collapsed": false
   }
  },
  {
   "cell_type": "code",
   "execution_count": null,
   "outputs": [],
   "source": [
    "\"\"\"Main training loop\"\"\"\n",
    "print(f\"Training through {PARAMS['N_EPISODES']} episodes\")\n",
    "print(\"-\" * 30)\n",
    "\n",
    "for episode in range(PARAMS[\"N_EPISODES\"]):\n",
    "    print(f\"\\rIn episode {episode + 1}\", end=\"\")\n",
    "\n",
    "    # Train 1 episode.\n",
    "    episode_reward, total_step = train_one_episode(\n",
    "        env, PARAMS, players, total_step)\n",
    "\n",
    "    # Collect results from the one episode.\n",
    "    episode_loss = int(episode_reward > 0)  # Count losses only.\n",
    "\n",
    "    # Log the episode reward.\n",
    "    reward_records.add_record(episode, record=episode_reward)\n",
    "    total_reward += episode_reward\n",
    "\n",
    "    # Log the episode loss.\n",
    "    loss_records.add_record(episode, record=episode_loss)\n",
    "    total_losses += episode_loss\n",
    "\n",
    "    # Periodically print episode information.\n",
    "    if (episode + 1) % CONFIG[\"N_EPISODE_PER_PRINT\"] == 0:\n",
    "        print(f\"\\rEpisode: {episode + 1}\")\n",
    "        print(f\"Total Steps: {total_step}\")\n",
    "        print(\"-\" * 25)\n",
    "        # Reward.\n",
    "        reward_records.print_info(episode)\n",
    "        print(\"-\" * 25)\n",
    "        # Losses.\n",
    "        loss_records.print_info(episode)\n",
    "        print(\"=\" * 25)"
   ],
   "metadata": {
    "collapsed": false,
    "pycharm": {
     "name": "#%%\n"
    }
   }
  },
  {
   "cell_type": "markdown",
   "source": [
    "### Print Training statistics"
   ],
   "metadata": {
    "collapsed": false
   }
  },
  {
   "cell_type": "code",
   "execution_count": null,
   "outputs": [],
   "source": [
    "# Print training information.\n",
    "print(\"\\rIn the end of training,\")\n",
    "print(f\"Total Steps: {total_step}\")\n",
    "print(f\"Total Reward: {total_reward}\")\n",
    "print(f\"Average Reward: {total_reward / PARAMS['N_EPISODES']}\")\n",
    "print(f\"Total Number of Losses: {total_losses}\")\n",
    "print(f\"Average Number of Losses: {total_losses / PARAMS['N_EPISODES']}\")\n",
    "print(\"=\" * 30)"
   ],
   "metadata": {
    "collapsed": false,
    "pycharm": {
     "name": "#%%\n"
    }
   }
  },
  {
   "cell_type": "markdown",
   "source": [
    "### Visualisations"
   ],
   "metadata": {
    "collapsed": false
   }
  },
  {
   "cell_type": "code",
   "execution_count": null,
   "outputs": [],
   "source": [
    "\"\"\"Visualize the training results\"\"\"\n",
    "plot_list = create_plot_list([reward_records, loss_records])\n",
    "plot_records(CONFIG, plot_list)"
   ],
   "metadata": {
    "collapsed": false,
    "pycharm": {
     "name": "#%%\n"
    }
   }
  },
  {
   "cell_type": "markdown",
   "source": [
    "---\n",
    "## Save model & summary"
   ],
   "metadata": {
    "collapsed": false
   }
  },
  {
   "cell_type": "code",
   "execution_count": null,
   "outputs": [],
   "source": [
    "\"\"\"Save Trained Models and Summary\"\"\"\n",
    "save_model_from_player(CONFIG, PARAMS, players)"
   ],
   "metadata": {
    "collapsed": false,
    "pycharm": {
     "name": "#%%\n"
    }
   }
  },
  {
   "cell_type": "markdown",
   "source": [
    "---\n",
    "---\n",
    "\n",
    "## Evaluation"
   ],
   "metadata": {
    "collapsed": false,
    "pycharm": {
     "name": "#%% md\n"
    }
   }
  },
  {
   "cell_type": "code",
   "execution_count": null,
   "outputs": [],
   "source": [
    "if CONFIG.get(\"SAVE_MODEL\") is None:\n",
    "    raise SystemExit(\"No model was saved for training!\")"
   ],
   "metadata": {
    "collapsed": false,
    "pycharm": {
     "name": "#%%\n"
    }
   }
  },
  {
   "cell_type": "markdown",
   "source": [
    "---\n",
    "## Setup\n",
    "### Setting changes"
   ],
   "metadata": {
    "collapsed": false,
    "pycharm": {
     "name": "#%% md\n"
    }
   }
  },
  {
   "cell_type": "code",
   "execution_count": null,
   "outputs": [],
   "source": [
    "PARAMS[\"N_EPISODES\"] = 1000\n",
    "CONFIG[\"LOAD_MODEL\"] = [CONFIG[\"SAVE_MODEL\"], None]"
   ],
   "metadata": {
    "collapsed": false,
    "pycharm": {
     "name": "#%%\n"
    }
   }
  },
  {
   "cell_type": "markdown",
   "source": [
    "### Players"
   ],
   "metadata": {
    "collapsed": false,
    "pycharm": {
     "name": "#%% md\n"
    }
   }
  },
  {
   "cell_type": "code",
   "execution_count": null,
   "outputs": [],
   "source": [
    "player1: Player = DeepQPlayer(env, PARAMS, PlaceholderSgdDqn(momentum=0),\n",
    "                              is_eval=True)\n",
    "player2: Player = RandomPlayer(env, seed=2119)\n",
    "players = {1: player1, 2: player2,\n",
    "           \"trainee_id\": 1}"
   ],
   "metadata": {
    "collapsed": false,
    "pycharm": {
     "name": "#%%\n"
    }
   }
  },
  {
   "cell_type": "markdown",
   "source": [
    "---\n",
    "## Model Preparations Before Evaluation\n",
    "### Load Trained Model"
   ],
   "metadata": {
    "collapsed": false,
    "pycharm": {
     "name": "#%% md\n"
    }
   }
  },
  {
   "cell_type": "code",
   "source": [
    "\"\"\"Load the saved player if requested\"\"\"\n",
    "load_model_to_players(CONFIG, PARAMS, players)"
   ],
   "metadata": {
    "collapsed": false,
    "pycharm": {
     "name": "#%%\n"
    }
   },
   "execution_count": null,
   "outputs": []
  },
  {
   "cell_type": "markdown",
   "source": [
    "---\n",
    "### Prepare Record Storage"
   ],
   "metadata": {
    "collapsed": false,
    "pycharm": {
     "name": "#%% md\n"
    }
   }
  },
  {
   "cell_type": "code",
   "execution_count": null,
   "outputs": [],
   "source": [
    "\"\"\"Logging\"\"\"\n",
    "total_step = 0\n",
    "\n",
    "# Reward and Losses recording.\n",
    "total_reward = 0\n",
    "total_losses = 0\n",
    "eval_reward_records = Record(PARAMS, CONFIG,\n",
    "                             name=\"Evaluation Rewards\", dtype=np.int32)\n",
    "eval_loss_records = Record(PARAMS, CONFIG,\n",
    "                           name=\"Evaluation Losses\", dtype=np.int32)"
   ],
   "metadata": {
    "collapsed": false,
    "pycharm": {
     "name": "#%%\n"
    }
   }
  },
  {
   "cell_type": "markdown",
   "source": [
    "---\n",
    "## Evaluation"
   ],
   "metadata": {
    "collapsed": false
   }
  },
  {
   "cell_type": "code",
   "execution_count": null,
   "outputs": [],
   "source": [
    "\"\"\"Main evaluation loop\"\"\"\n",
    "print(f\"Evaluating through {PARAMS['N_EPISODES']} episodes\")\n",
    "print(\"-\" * 30)\n",
    "\n",
    "for episode in range(PARAMS[\"N_EPISODES\"]):\n",
    "    print(f\"\\rIn evaluation episode {episode + 1}\", end=\"\")\n",
    "\n",
    "    # Train 1 episode.\n",
    "    episode_reward, total_step = train_one_episode(\n",
    "        env, PARAMS, players, total_step)\n",
    "\n",
    "    # Collect results from the one episode.\n",
    "    episode_loss = int(episode_reward > 0)  # Count losses only.\n",
    "\n",
    "    # Log the episode reward.\n",
    "    eval_reward_records.add_record(episode, record=episode_reward)\n",
    "    total_reward += episode_reward\n",
    "\n",
    "    # Log the episode loss.\n",
    "    eval_loss_records.add_record(episode, record=episode_loss)\n",
    "    total_losses += episode_loss\n",
    "\n",
    "    # Periodically print episode information.\n",
    "    if (episode + 1) % CONFIG[\"N_EPISODE_PER_PRINT\"] == 0:\n",
    "        print(f\"\\rEvaluation Episode: {episode + 1}\")\n",
    "        print(f\"Total Steps: {total_step}\")\n",
    "        print(\"-\" * 25)\n",
    "        # Reward.\n",
    "        eval_reward_records.print_info(episode)\n",
    "        print(\"-\" * 25)\n",
    "        # Losses.\n",
    "        eval_loss_records.print_info(episode)\n",
    "        print(\"=\" * 25)"
   ],
   "metadata": {
    "collapsed": false,
    "pycharm": {
     "name": "#%%\n"
    }
   }
  },
  {
   "cell_type": "markdown",
   "source": [
    "### Print Training statistics"
   ],
   "metadata": {
    "collapsed": false
   }
  },
  {
   "cell_type": "code",
   "execution_count": null,
   "outputs": [],
   "source": [
    "# Print evaluation information.\n",
    "print(\"\\rIn the end of evaluation,\")\n",
    "print(f\"Total Steps: {total_step}\")\n",
    "print(f\"Total Reward: {total_reward}\")\n",
    "print(f\"Average Reward: {total_reward / PARAMS['N_EPISODES']}\")\n",
    "print(f\"Total Number of Losses: {total_losses}\")\n",
    "print(f\"Average Number of Losses: {total_losses / PARAMS['N_EPISODES']}\")\n",
    "print(\"=\" * 30)"
   ],
   "metadata": {
    "collapsed": false,
    "pycharm": {
     "name": "#%%\n"
    }
   }
  },
  {
   "cell_type": "markdown",
   "source": [
    "### Visualisations"
   ],
   "metadata": {
    "collapsed": false
   }
  },
  {
   "cell_type": "code",
   "execution_count": null,
   "outputs": [],
   "source": [
    "\"\"\"Visualize the training results\"\"\"\n",
    "plot_list = create_plot_list([eval_reward_records, eval_loss_records])\n",
    "plot_records(CONFIG, plot_list)"
   ],
   "metadata": {
    "collapsed": false,
    "pycharm": {
     "name": "#%%\n"
    }
   }
  },
  {
   "cell_type": "markdown",
   "source": [
    "---\n",
    "---\n",
    "## Colab Data (model & plots) downloads"
   ],
   "metadata": {
    "collapsed": false,
    "pycharm": {
     "name": "#%% md\n"
    }
   }
  },
  {
   "cell_type": "code",
   "execution_count": null,
   "outputs": [],
   "source": [
    "\"\"\"Download files\"\"\"\n",
    "# model_name = CONFIG[\"SAVE_MODEL\"]\n",
    "# from google.colab import files\n",
    "# files.download(f'saved_models/{model_name}.txt')\n",
    "# files.download(f'saved_models/{model_name}.h5')\n",
    "# files.download(f'saved_models/{model_name}.json')\n",
    "# !zip -r \"saved_plots/z.zip\" \"saved_plots\"\n",
    "# files.download(\"saved_plots/z.zip\")"
   ],
   "metadata": {
    "collapsed": false,
    "pycharm": {
     "name": "#%%\n"
    }
   }
  }
 ]
}