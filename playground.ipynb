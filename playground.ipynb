{
 "cells": [
  {
   "cell_type": "markdown",
   "source": [
    "# AI that cannot win Connect-Four\n",
    "## Introduction\n",
    "\n",
    "This is a Playground for human players to play with our trained model(s) at Connect-Four, in particular, to attempt losing to our trained model.\n",
    "\n",
    "### Challenge\n",
    "Use your skills to __lose__ the match against our trained model.\n",
    "\n",
    "### Our model\n",
    "A simple fully connected network with 4 hidden Dense layers as deep-Q model.\n",
    "\n",
    "~~Insert Meme \"it's a simple spell but quite unbreakable\" of Dr Strange (not inserted due to potential licensing issues)~~"
   ],
   "metadata": {
    "collapsed": false,
    "pycharm": {
     "name": "#%% md\n"
    }
   }
  },
  {
   "cell_type": "markdown",
   "source": [
    "---\n",
    "## Game Instructions\n",
    "You may take a look at [Playing the Game](https://www.wikihow.com/Play-Connect-4#Playing-the-Game) section of [How to Play Connect 4 - wikiHow](https://www.wikihow.com/Play-Connect-4) to get familiar with the game rules first.\n",
    "\n",
    "You may also look at the [Winning the Game](https://www.wikihow.com/Play-Connect-4#Winning-the-Game) section of the above article for inspirations how to win the game.\n",
    "\n",
    "__Friendly reminder__ Your goal here is to <u>lose</u> to our trained model, if you can, instead of winning, which you are very likely end up to. (Smiley face)."
   ],
   "metadata": {
    "collapsed": false,
    "pycharm": {
     "name": "#%% md\n"
    }
   }
  },
  {
   "cell_type": "markdown",
   "source": [
    "---\n",
    "## Preparations before Matches\n",
    "Please run the following cells to initialise the game environment and load our trained model for matching. No changes is needed unless specified."
   ],
   "metadata": {
    "collapsed": false,
    "pycharm": {
     "name": "#%% md\n"
    }
   }
  },
  {
   "cell_type": "markdown",
   "source": [
    "### Get Git repo and install dependencies\n",
    "_Warning: Running this cell will download the Git repo (<20MB) and install dependencies._\n",
    "\n",
    "You may skip this cell if you have installed the project on your device. Please make sure you have changed the current working directory to the project root directory before proceeding."
   ],
   "metadata": {
    "collapsed": false,
    "pycharm": {
     "name": "#%% md\n"
    }
   }
  },
  {
   "cell_type": "code",
   "execution_count": null,
   "outputs": [
    {
     "name": "stderr",
     "output_type": "stream",
     "text": [
      "Cloning into 'COMP-3359-Project-Deep-Q-RL'...\n"
     ]
    }
   ],
   "source": [
    "# Install Connect-Four environment and training module.\n",
    "!git clone https://github.com/nicolas-chan-42/COMP-3359-Project-Deep-Q-RL.git\n",
    "!pip install -e ./COMP-3359-Project-Deep-Q-RL\n",
    "%cd ./COMP-3359-Project-Deep-Q-RL"
   ],
   "metadata": {
    "collapsed": false,
    "pycharm": {
     "name": "#%%\n",
     "is_executing": true
    }
   }
  },
  {
   "cell_type": "markdown",
   "source": [
    "### Import needed modules"
   ],
   "metadata": {
    "collapsed": false,
    "pycharm": {
     "name": "#%% md\n"
    }
   }
  },
  {
   "cell_type": "code",
   "execution_count": null,
   "metadata": {
    "collapsed": true,
    "pycharm": {
     "is_executing": true
    }
   },
   "outputs": [],
   "source": [
    "import os\n",
    "\n",
    "import gym\n",
    "from IPython.display import clear_output\n",
    "\n",
    "# Must be put before any tensorflow import statement.\n",
    "os.environ['TF_CPP_MIN_LOG_LEVEL'] = '2'\n",
    "\n",
    "from losing_connect_four.deep_q_networks import PlaceholderSgdDqn\n",
    "from losing_connect_four.player import DeepQPlayer, Player, HumanPlayer\n",
    "from losing_connect_four.training import train_one_episode, load_model_to_players"
   ]
  },
  {
   "cell_type": "markdown",
   "source": [
    "### Hyper-parameters"
   ],
   "metadata": {
    "collapsed": false,
    "pycharm": {
     "name": "#%% md\n"
    }
   }
  },
  {
   "cell_type": "code",
   "execution_count": null,
   "outputs": [],
   "source": [
    "\"\"\"Hyper-parameters\"\"\"\n",
    "PARAMS = {\n",
    "    \"ENV_NAME\": \"ConnectFour-v1\",\n",
    "    \"LR\": 0.001,  # needed for model initialisation\n",
    "    \"REPLAY_BUFFER_MAX_LENGTH\": 100_000,  # needed for model initialisation\n",
    "}"
   ],
   "metadata": {
    "collapsed": false,
    "pycharm": {
     "name": "#%%\n",
     "is_executing": true
    }
   }
  },
  {
   "cell_type": "markdown",
   "source": [
    "### Configurations\n",
    "Place the directory path and file basename of trained model here.\n",
    "\n",
    "Our best trained model `Pretrain2_SimpleDense4_512` has been put into `./saved_models/` for your use."
   ],
   "metadata": {
    "collapsed": false,
    "pycharm": {
     "name": "#%% md\n"
    }
   }
  },
  {
   "cell_type": "code",
   "execution_count": null,
   "outputs": [],
   "source": [
    "\"\"\"Configurations\"\"\"\n",
    "CONFIG = {\n",
    "    # Please use \"/\" only for filepath and directory paths.\n",
    "    # Use None as placeholder.\n",
    "    \"MODEL_DIR\": \"saved_models\",  # Input directory path here.\n",
    "    \"LOAD_MODEL\": [\"Pretrain2_SimpleDense4_512\", None],  # Input filename here.\n",
    "}"
   ],
   "metadata": {
    "collapsed": false,
    "pycharm": {
     "name": "#%%\n",
     "is_executing": true
    }
   }
  },
  {
   "cell_type": "markdown",
   "source": [
    "### Setup Environment"
   ],
   "metadata": {
    "collapsed": false,
    "pycharm": {
     "name": "#%% md\n"
    }
   }
  },
  {
   "cell_type": "code",
   "execution_count": null,
   "outputs": [],
   "source": [
    "\"\"\"Set-up Environment\"\"\"\n",
    "print(\"\\rMaking Connect-Four Gym Environment...\", end=\"\")\n",
    "env = gym.make(PARAMS[\"ENV_NAME\"])\n",
    "print(\"\\rConnect-Four Gym Environment Made\")"
   ],
   "metadata": {
    "collapsed": false,
    "pycharm": {
     "name": "#%%\n",
     "is_executing": true
    }
   }
  },
  {
   "cell_type": "markdown",
   "source": [
    "### Setup Player\n",
    "You are by default player 2 to have a higher loss rate. You can change this if you know what you are doing."
   ],
   "metadata": {
    "collapsed": false,
    "pycharm": {
     "name": "#%% md\n"
    }
   }
  },
  {
   "cell_type": "code",
   "execution_count": null,
   "outputs": [],
   "source": [
    "\"\"\"Setup Players\"\"\"\n",
    "ai_player: Player = DeepQPlayer(env, PARAMS, PlaceholderSgdDqn(momentum=0),\n",
    "                                is_eval=True)\n",
    "human_player: Player = HumanPlayer(env)\n",
    "\n",
    "players = {1: human_player, 2: ai_player}\n",
    "players[\"trainee_id\"] = list(players.values()).index(ai_player)"
   ],
   "metadata": {
    "collapsed": false,
    "pycharm": {
     "name": "#%%\n",
     "is_executing": true
    }
   }
  },
  {
   "cell_type": "markdown",
   "source": [
    "### Load trained model"
   ],
   "metadata": {
    "collapsed": false,
    "pycharm": {
     "name": "#%% md\n"
    }
   }
  },
  {
   "cell_type": "code",
   "execution_count": null,
   "outputs": [],
   "source": [
    "\"\"\"Load the saved player if requested\"\"\"\n",
    "load_model_to_players(CONFIG, PARAMS, players)"
   ],
   "metadata": {
    "collapsed": false,
    "pycharm": {
     "name": "#%%\n",
     "is_executing": true
    }
   }
  },
  {
   "cell_type": "markdown",
   "source": [
    "---\n",
    "## Matching\n",
    "_Warning: Please run everything above first before matching_\n",
    "\n",
    "Good luck losing!"
   ],
   "metadata": {
    "collapsed": false,
    "pycharm": {
     "name": "#%% md\n"
    }
   }
  },
  {
   "cell_type": "code",
   "execution_count": null,
   "outputs": [],
   "source": [
    "episode = 1\n",
    "human_player_stats = {\"wins\": 0, \"draws\": 0, \"losses\": 0}\n",
    "\n",
    "while True:\n",
    "    print(f\"In matching episode {episode}\")\n",
    "    print(\"-\" * 30)\n",
    "\n",
    "    # Play 1 episode.\n",
    "    episode_reward, _ = train_one_episode(env, PARAMS, players, 0)\n",
    "\n",
    "    # Print ending messages.\n",
    "    env.render()\n",
    "    if episode_reward > 0:\n",
    "        print(\"Congratulations! You won!\")\n",
    "        human_player_stats[\"wins\"] += 1\n",
    "    elif episode_reward == 0:\n",
    "        print(\"Wow! You drew the game! This happens once in a blue moon!\")\n",
    "        human_player_stats[\"draws\"] += 1\n",
    "    else:\n",
    "        print(\"Amazing! You lost! This is a feat if you don't know!\")\n",
    "        human_player_stats[\"losses\"] += 1\n",
    "    print(\"-\" * 30)\n",
    "\n",
    "    # Ask if human player want another game.\n",
    "    is_next_game = None\n",
    "    while is_next_game is None:\n",
    "        user_response = input(\"Next Game? [Y/N] \").lower()\n",
    "\n",
    "        if user_response in (\"y\", \"1\", \"yes\", \"ok\", \"okay\", \"true\", \"t\"):\n",
    "            is_next_game = True\n",
    "        elif user_response in (\"\", \"no\", \"0\", \"n\", \"false\", \"f\"):\n",
    "            is_next_game = False\n",
    "        else:\n",
    "            print(\"Sorry, but we can't understand you.\")\n",
    "            continue\n",
    "\n",
    "    # Clear output and goto next game if requested.\n",
    "    clear_output(wait=True)\n",
    "    if is_next_game:\n",
    "        episode += 1\n",
    "        continue\n",
    "    else:\n",
    "        break\n",
    "\n",
    "# Print game statistics.\n",
    "n_wins = human_player_stats[\"wins\"]\n",
    "n_draws = human_player_stats[\"draws\"]\n",
    "n_losses = human_player_stats[\"losses\"]\n",
    "rate_wins = n_wins / episode\n",
    "rate_draws = n_draws / episode\n",
    "rate_losses = n_losses / episode\n",
    "\n",
    "print(\"Game Statistics\")\n",
    "print(\"-\" * 50)\n",
    "print(f\"Wins: {n_wins} ({rate_wins:.1%})\")\n",
    "print(f\"Draws: {n_draws} ({rate_draws:.1%})\")\n",
    "print(f\"Losses: {n_losses} ({rate_losses:.1%})\")\n",
    "\n",
    "if rate_losses > 0.2:\n",
    "    print(\"Your are losing more than we expected!\")\n",
    "    print(\"You should be proud of yourself! :)\")"
   ],
   "metadata": {
    "collapsed": false,
    "pycharm": {
     "name": "#%%\n",
     "is_executing": true
    }
   }
  },
  {
   "cell_type": "markdown",
   "source": [
    "---\n",
    "## Some last words from us\n",
    "> \"We hope that you like our project and enjoy your time failing to lose :)\"\n",
    ">\n",
    "> -- from Howard Chan and Nicolas Chan\n",
    "\n",
    "Can you get our model win to you? If not, how about drawing some games to you? We wish you answer \"yes\" to one of these questions, though we think not likely.\n",
    "\n",
    "In fact, we did not expect our model to do very well at the beginning of the project. But it definitely exceeded our early expectations in our own tests.\n",
    "\n",
    "After trying out our model, we hope that you would find our project interesting, and even share it with your friends.\n",
    "\n",
    "Wish that you can learn something from our trained model about how to play Connect-Four, for real winning instead of losing, of course, by doing the opposite. Please do as we say, not what we do or build.\n",
    "\n",
    "Last but not least, we hope that you like our project and enjoy your time failing to lose. :)\n",
    "\n",
    "### You may also like...\n",
    "* [Losing AI in Reversi (Japanese)](https://othello.to-kei.net/weak/)"
   ],
   "metadata": {
    "collapsed": false,
    "pycharm": {
     "name": "#%% md\n"
    }
   }
  }
 ],
 "metadata": {
  "kernelspec": {
   "display_name": "Python 3",
   "language": "python",
   "name": "python3"
  },
  "language_info": {
   "codemirror_mode": {
    "name": "ipython",
    "version": 2
   },
   "file_extension": ".py",
   "mimetype": "text/x-python",
   "name": "python",
   "nbconvert_exporter": "python",
   "pygments_lexer": "ipython2",
   "version": "2.7.6"
  }
 },
 "nbformat": 4,
 "nbformat_minor": 0
}